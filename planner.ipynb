{
 "cells": [
  {
   "cell_type": "markdown",
   "id": "1ee69212",
   "metadata": {},
   "source": [
    "# Allocation Planning"
   ]
  },
  {
   "cell_type": "markdown",
   "id": "adeb3bda",
   "metadata": {},
   "source": [
    "Remember to update all your docstrings... yaaaaaayyyyyy..."
   ]
  },
  {
   "cell_type": "markdown",
   "id": "f8d8acdd",
   "metadata": {},
   "source": [
    "## Organization Account Planning\n",
    "\n",
    "Rechange all current balance reports to agency reports to make it smoother\n",
    "\n",
    "Change the fields in the schema for minimalism\n",
    "\n",
    "\n",
    "\n",
    "\n"
   ]
  },
  {
   "cell_type": "markdown",
   "id": "521c5cbe",
   "metadata": {},
   "source": [
    "Connections\n",
    "\n",
    "-> files\n",
    "-> extract\n",
    "-> transform\n",
    "-> load"
   ]
  },
  {
   "cell_type": "code",
   "execution_count": null,
   "id": "a60a3079",
   "metadata": {},
   "outputs": [
    {
     "ename": "SyntaxError",
     "evalue": "invalid syntax (1416958159.py, line 2)",
     "output_type": "error",
     "traceback": [
      "  \u001b[36mCell\u001b[39m\u001b[36m \u001b[39m\u001b[32mIn[1]\u001b[39m\u001b[32m, line 2\u001b[39m\n\u001b[31m    \u001b[39m\u001b[31m->\u001b[39m\n    ^\n\u001b[31mSyntaxError\u001b[39m\u001b[31m:\u001b[39m invalid syntax\n"
     ]
    }
   ],
   "source": [
    "@connection\n",
    "def load_agency_report(agencyDict):\n",
    "    create_agency_report()\n",
    "    query = query_accounts()\n",
    "    for accountnumber in agencyDict:\n",
    "        if accountnumber not in query:\n",
    "            create_accounts(accountnumber)\n",
    "    create_balance_report()\n",
    "\n",
    "def create_agency_report():\n",
    "    ...\n",
    "\n",
    "def query_accounts():\n",
    "    ...\n",
    "\n",
    "def create_accounts():\n",
    "    ...\n",
    "\n",
    "def create_balance_report():\n",
    "    ...\n",
    "\n"
   ]
  }
 ],
 "metadata": {
  "kernelspec": {
   "display_name": "Python 3",
   "language": "python",
   "name": "python3"
  },
  "language_info": {
   "codemirror_mode": {
    "name": "ipython",
    "version": 3
   },
   "file_extension": ".py",
   "mimetype": "text/x-python",
   "name": "python",
   "nbconvert_exporter": "python",
   "pygments_lexer": "ipython3",
   "version": "3.12.9"
  }
 },
 "nbformat": 4,
 "nbformat_minor": 5
}
